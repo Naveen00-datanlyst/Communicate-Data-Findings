{
 "cells": [
  {
   "cell_type": "markdown",
   "metadata": {},
   "source": [
    "# Ford GoBike Dataset\n",
    " ### by jasthi naveen"
   ]
  },
  {
   "cell_type": "markdown",
   "metadata": {},
   "source": [
    "# Preliminary Wrangling"
   ]
  },
  {
   "cell_type": "markdown",
   "metadata": {},
   "source": [
    "##### This data set includes information about individual rides made in a bike-sharing system covering the greater San Francisco Bay area "
   ]
  },
  {
   "cell_type": "code",
   "execution_count": 139,
   "metadata": {},
   "outputs": [],
   "source": [
    "# import all packages and set plots to be embedded inline\n",
    "import numpy as np\n",
    "import pandas as pd\n",
    "import matplotlib.pyplot as plt\n",
    "import seaborn as sns\n",
    "import datetime as dt\n",
    "\n",
    "%matplotlib inline"
   ]
  },
  {
   "cell_type": "code",
   "execution_count": 140,
   "metadata": {},
   "outputs": [
    {
     "data": {
      "text/html": [
       "<div>\n",
       "<style scoped>\n",
       "    .dataframe tbody tr th:only-of-type {\n",
       "        vertical-align: middle;\n",
       "    }\n",
       "\n",
       "    .dataframe tbody tr th {\n",
       "        vertical-align: top;\n",
       "    }\n",
       "\n",
       "    .dataframe thead th {\n",
       "        text-align: right;\n",
       "    }\n",
       "</style>\n",
       "<table border=\"1\" class=\"dataframe\">\n",
       "  <thead>\n",
       "    <tr style=\"text-align: right;\">\n",
       "      <th></th>\n",
       "      <th>duration_sec</th>\n",
       "      <th>start_time</th>\n",
       "      <th>end_time</th>\n",
       "      <th>start_station_id</th>\n",
       "      <th>start_station_name</th>\n",
       "      <th>start_station_latitude</th>\n",
       "      <th>start_station_longitude</th>\n",
       "      <th>end_station_id</th>\n",
       "      <th>end_station_name</th>\n",
       "      <th>end_station_latitude</th>\n",
       "      <th>end_station_longitude</th>\n",
       "      <th>bike_id</th>\n",
       "      <th>user_type</th>\n",
       "      <th>member_birth_year</th>\n",
       "      <th>member_gender</th>\n",
       "      <th>bike_share_for_all_trip</th>\n",
       "    </tr>\n",
       "  </thead>\n",
       "  <tbody>\n",
       "    <tr>\n",
       "      <th>0</th>\n",
       "      <td>52185</td>\n",
       "      <td>2019-02-28 17:32:10.1450</td>\n",
       "      <td>2019-03-01 08:01:55.9750</td>\n",
       "      <td>21.0</td>\n",
       "      <td>Montgomery St BART Station (Market St at 2nd St)</td>\n",
       "      <td>37.789625</td>\n",
       "      <td>-122.400811</td>\n",
       "      <td>13.0</td>\n",
       "      <td>Commercial St at Montgomery St</td>\n",
       "      <td>37.794231</td>\n",
       "      <td>-122.402923</td>\n",
       "      <td>4902</td>\n",
       "      <td>Customer</td>\n",
       "      <td>1984.0</td>\n",
       "      <td>Male</td>\n",
       "      <td>No</td>\n",
       "    </tr>\n",
       "    <tr>\n",
       "      <th>1</th>\n",
       "      <td>42521</td>\n",
       "      <td>2019-02-28 18:53:21.7890</td>\n",
       "      <td>2019-03-01 06:42:03.0560</td>\n",
       "      <td>23.0</td>\n",
       "      <td>The Embarcadero at Steuart St</td>\n",
       "      <td>37.791464</td>\n",
       "      <td>-122.391034</td>\n",
       "      <td>81.0</td>\n",
       "      <td>Berry St at 4th St</td>\n",
       "      <td>37.775880</td>\n",
       "      <td>-122.393170</td>\n",
       "      <td>2535</td>\n",
       "      <td>Customer</td>\n",
       "      <td>NaN</td>\n",
       "      <td>NaN</td>\n",
       "      <td>No</td>\n",
       "    </tr>\n",
       "    <tr>\n",
       "      <th>2</th>\n",
       "      <td>61854</td>\n",
       "      <td>2019-02-28 12:13:13.2180</td>\n",
       "      <td>2019-03-01 05:24:08.1460</td>\n",
       "      <td>86.0</td>\n",
       "      <td>Market St at Dolores St</td>\n",
       "      <td>37.769305</td>\n",
       "      <td>-122.426826</td>\n",
       "      <td>3.0</td>\n",
       "      <td>Powell St BART Station (Market St at 4th St)</td>\n",
       "      <td>37.786375</td>\n",
       "      <td>-122.404904</td>\n",
       "      <td>5905</td>\n",
       "      <td>Customer</td>\n",
       "      <td>1972.0</td>\n",
       "      <td>Male</td>\n",
       "      <td>No</td>\n",
       "    </tr>\n",
       "    <tr>\n",
       "      <th>3</th>\n",
       "      <td>36490</td>\n",
       "      <td>2019-02-28 17:54:26.0100</td>\n",
       "      <td>2019-03-01 04:02:36.8420</td>\n",
       "      <td>375.0</td>\n",
       "      <td>Grove St at Masonic Ave</td>\n",
       "      <td>37.774836</td>\n",
       "      <td>-122.446546</td>\n",
       "      <td>70.0</td>\n",
       "      <td>Central Ave at Fell St</td>\n",
       "      <td>37.773311</td>\n",
       "      <td>-122.444293</td>\n",
       "      <td>6638</td>\n",
       "      <td>Subscriber</td>\n",
       "      <td>1989.0</td>\n",
       "      <td>Other</td>\n",
       "      <td>No</td>\n",
       "    </tr>\n",
       "    <tr>\n",
       "      <th>4</th>\n",
       "      <td>1585</td>\n",
       "      <td>2019-02-28 23:54:18.5490</td>\n",
       "      <td>2019-03-01 00:20:44.0740</td>\n",
       "      <td>7.0</td>\n",
       "      <td>Frank H Ogawa Plaza</td>\n",
       "      <td>37.804562</td>\n",
       "      <td>-122.271738</td>\n",
       "      <td>222.0</td>\n",
       "      <td>10th Ave at E 15th St</td>\n",
       "      <td>37.792714</td>\n",
       "      <td>-122.248780</td>\n",
       "      <td>4898</td>\n",
       "      <td>Subscriber</td>\n",
       "      <td>1974.0</td>\n",
       "      <td>Male</td>\n",
       "      <td>Yes</td>\n",
       "    </tr>\n",
       "  </tbody>\n",
       "</table>\n",
       "</div>"
      ],
      "text/plain": [
       "   duration_sec                start_time                  end_time  \\\n",
       "0         52185  2019-02-28 17:32:10.1450  2019-03-01 08:01:55.9750   \n",
       "1         42521  2019-02-28 18:53:21.7890  2019-03-01 06:42:03.0560   \n",
       "2         61854  2019-02-28 12:13:13.2180  2019-03-01 05:24:08.1460   \n",
       "3         36490  2019-02-28 17:54:26.0100  2019-03-01 04:02:36.8420   \n",
       "4          1585  2019-02-28 23:54:18.5490  2019-03-01 00:20:44.0740   \n",
       "\n",
       "   start_station_id                                start_station_name  \\\n",
       "0              21.0  Montgomery St BART Station (Market St at 2nd St)   \n",
       "1              23.0                     The Embarcadero at Steuart St   \n",
       "2              86.0                           Market St at Dolores St   \n",
       "3             375.0                           Grove St at Masonic Ave   \n",
       "4               7.0                               Frank H Ogawa Plaza   \n",
       "\n",
       "   start_station_latitude  start_station_longitude  end_station_id  \\\n",
       "0               37.789625              -122.400811            13.0   \n",
       "1               37.791464              -122.391034            81.0   \n",
       "2               37.769305              -122.426826             3.0   \n",
       "3               37.774836              -122.446546            70.0   \n",
       "4               37.804562              -122.271738           222.0   \n",
       "\n",
       "                               end_station_name  end_station_latitude  \\\n",
       "0                Commercial St at Montgomery St             37.794231   \n",
       "1                            Berry St at 4th St             37.775880   \n",
       "2  Powell St BART Station (Market St at 4th St)             37.786375   \n",
       "3                        Central Ave at Fell St             37.773311   \n",
       "4                         10th Ave at E 15th St             37.792714   \n",
       "\n",
       "   end_station_longitude  bike_id   user_type  member_birth_year  \\\n",
       "0            -122.402923     4902    Customer             1984.0   \n",
       "1            -122.393170     2535    Customer                NaN   \n",
       "2            -122.404904     5905    Customer             1972.0   \n",
       "3            -122.444293     6638  Subscriber             1989.0   \n",
       "4            -122.248780     4898  Subscriber             1974.0   \n",
       "\n",
       "  member_gender bike_share_for_all_trip  \n",
       "0          Male                      No  \n",
       "1           NaN                      No  \n",
       "2          Male                      No  \n",
       "3         Other                      No  \n",
       "4          Male                     Yes  "
      ]
     },
     "execution_count": 140,
     "metadata": {},
     "output_type": "execute_result"
    }
   ],
   "source": [
    "#loading the dataset \n",
    "df = pd.read_csv('201902-fordgobike-tripdata.csv')\n",
    "df.head()"
   ]
  },
  {
   "cell_type": "code",
   "execution_count": 141,
   "metadata": {},
   "outputs": [
    {
     "data": {
      "text/plain": [
       "(183412, 16)"
      ]
     },
     "execution_count": 141,
     "metadata": {},
     "output_type": "execute_result"
    }
   ],
   "source": [
    "#rows and columns\n",
    "df.shape"
   ]
  },
  {
   "cell_type": "code",
   "execution_count": 142,
   "metadata": {},
   "outputs": [
    {
     "name": "stdout",
     "output_type": "stream",
     "text": [
      "<class 'pandas.core.frame.DataFrame'>\n",
      "RangeIndex: 183412 entries, 0 to 183411\n",
      "Data columns (total 16 columns):\n",
      " #   Column                   Non-Null Count   Dtype  \n",
      "---  ------                   --------------   -----  \n",
      " 0   duration_sec             183412 non-null  int64  \n",
      " 1   start_time               183412 non-null  object \n",
      " 2   end_time                 183412 non-null  object \n",
      " 3   start_station_id         183215 non-null  float64\n",
      " 4   start_station_name       183215 non-null  object \n",
      " 5   start_station_latitude   183412 non-null  float64\n",
      " 6   start_station_longitude  183412 non-null  float64\n",
      " 7   end_station_id           183215 non-null  float64\n",
      " 8   end_station_name         183215 non-null  object \n",
      " 9   end_station_latitude     183412 non-null  float64\n",
      " 10  end_station_longitude    183412 non-null  float64\n",
      " 11  bike_id                  183412 non-null  int64  \n",
      " 12  user_type                183412 non-null  object \n",
      " 13  member_birth_year        175147 non-null  float64\n",
      " 14  member_gender            175147 non-null  object \n",
      " 15  bike_share_for_all_trip  183412 non-null  object \n",
      "dtypes: float64(7), int64(2), object(7)\n",
      "memory usage: 22.4+ MB\n"
     ]
    }
   ],
   "source": [
    "#information about rows and columns\n",
    "df.info()"
   ]
  },
  {
   "cell_type": "code",
   "execution_count": 143,
   "metadata": {},
   "outputs": [
    {
     "data": {
      "text/plain": [
       "array(['Customer', 'Subscriber'], dtype=object)"
      ]
     },
     "execution_count": 143,
     "metadata": {},
     "output_type": "execute_result"
    }
   ],
   "source": [
    "df.user_type.unique()"
   ]
  },
  {
   "cell_type": "code",
   "execution_count": 144,
   "metadata": {},
   "outputs": [
    {
     "data": {
      "text/plain": [
       "duration_sec                  0\n",
       "start_time                    0\n",
       "end_time                      0\n",
       "start_station_id            197\n",
       "start_station_name          197\n",
       "start_station_latitude        0\n",
       "start_station_longitude       0\n",
       "end_station_id              197\n",
       "end_station_name            197\n",
       "end_station_latitude          0\n",
       "end_station_longitude         0\n",
       "bike_id                       0\n",
       "user_type                     0\n",
       "member_birth_year          8265\n",
       "member_gender              8265\n",
       "bike_share_for_all_trip       0\n",
       "dtype: int64"
      ]
     },
     "execution_count": 144,
     "metadata": {},
     "output_type": "execute_result"
    }
   ],
   "source": [
    "# checking the null values \n",
    "df.isnull().sum()"
   ]
  },
  {
   "cell_type": "code",
   "execution_count": 145,
   "metadata": {},
   "outputs": [
    {
     "data": {
      "text/plain": [
       "Index(['duration_sec', 'start_time', 'end_time', 'start_station_id',\n",
       "       'start_station_name', 'start_station_latitude',\n",
       "       'start_station_longitude', 'end_station_id', 'end_station_name',\n",
       "       'end_station_latitude', 'end_station_longitude', 'bike_id', 'user_type',\n",
       "       'member_birth_year', 'member_gender', 'bike_share_for_all_trip'],\n",
       "      dtype='object')"
      ]
     },
     "execution_count": 145,
     "metadata": {},
     "output_type": "execute_result"
    }
   ],
   "source": [
    "#all columns in dataset\n",
    "df.columns"
   ]
  },
  {
   "cell_type": "code",
   "execution_count": 146,
   "metadata": {},
   "outputs": [
    {
     "name": "stdout",
     "output_type": "stream",
     "text": [
      "<class 'pandas.core.frame.DataFrame'>\n",
      "RangeIndex: 183412 entries, 0 to 183411\n",
      "Data columns (total 16 columns):\n",
      " #   Column                   Non-Null Count   Dtype  \n",
      "---  ------                   --------------   -----  \n",
      " 0   duration_sec             183412 non-null  int64  \n",
      " 1   start_time               183412 non-null  object \n",
      " 2   end_time                 183412 non-null  object \n",
      " 3   start_station_id         183215 non-null  float64\n",
      " 4   start_station_name       183215 non-null  object \n",
      " 5   start_station_latitude   183412 non-null  float64\n",
      " 6   start_station_longitude  183412 non-null  float64\n",
      " 7   end_station_id           183215 non-null  float64\n",
      " 8   end_station_name         183215 non-null  object \n",
      " 9   end_station_latitude     183412 non-null  float64\n",
      " 10  end_station_longitude    183412 non-null  float64\n",
      " 11  bike_id                  183412 non-null  int64  \n",
      " 12  user_type                183412 non-null  object \n",
      " 13  member_birth_year        175147 non-null  float64\n",
      " 14  member_gender            175147 non-null  object \n",
      " 15  bike_share_for_all_trip  183412 non-null  object \n",
      "dtypes: float64(7), int64(2), object(7)\n",
      "memory usage: 22.4+ MB\n"
     ]
    }
   ],
   "source": [
    "#information of dataset \n",
    "df.info()"
   ]
  },
  {
   "cell_type": "code",
   "execution_count": 147,
   "metadata": {},
   "outputs": [
    {
     "data": {
      "text/plain": [
       "Subscriber    163544\n",
       "Customer       19868\n",
       "Name: user_type, dtype: int64"
      ]
     },
     "execution_count": 147,
     "metadata": {},
     "output_type": "execute_result"
    }
   ],
   "source": [
    "# check how many values in each user type\n",
    "df['user_type'].value_counts()"
   ]
  },
  {
   "cell_type": "markdown",
   "metadata": {},
   "source": [
    "### We got to know some information about the dataset by now\n",
    "\n"
   ]
  },
  {
   "cell_type": "markdown",
   "metadata": {},
   "source": [
    "### What is the structure of your dataset?\n",
    "- The dataset contains the details of 183412 trios with 16 attributes  \n",
    "\n",
    "- Most variables are numeric in nature, but the variables start_station_name, end_station_name, user_type and member_gender are qualitative nominal variables\n"
   ]
  },
  {
   "cell_type": "markdown",
   "metadata": {},
   "source": [
    "\n",
    "### What is/are the main feature(s) of interest in your dataset?"
   ]
  },
  {
   "cell_type": "markdown",
   "metadata": {},
   "source": [
    "- The main features of interest at least for me are: age, user type,time, gender, start and end station"
   ]
  },
  {
   "cell_type": "markdown",
   "metadata": {},
   "source": [
    "# Data cleaning"
   ]
  },
  {
   "cell_type": "code",
   "execution_count": 148,
   "metadata": {},
   "outputs": [],
   "source": [
    "#making a copy\n",
    "ford_bike=df.copy()"
   ]
  },
  {
   "cell_type": "markdown",
   "metadata": {},
   "source": [
    "### 1) Define\n",
    "##### Dropping the rows that contain null values"
   ]
  },
  {
   "cell_type": "markdown",
   "metadata": {},
   "source": [
    "### code\n"
   ]
  },
  {
   "cell_type": "code",
   "execution_count": 149,
   "metadata": {},
   "outputs": [],
   "source": [
    "#droping all those null values\n",
    "df.dropna(axis=0,inplace=True)\n"
   ]
  },
  {
   "cell_type": "markdown",
   "metadata": {},
   "source": [
    "### Test"
   ]
  },
  {
   "cell_type": "code",
   "execution_count": 150,
   "metadata": {},
   "outputs": [
    {
     "data": {
      "text/plain": [
       "duration_sec               0\n",
       "start_time                 0\n",
       "end_time                   0\n",
       "start_station_id           0\n",
       "start_station_name         0\n",
       "start_station_latitude     0\n",
       "start_station_longitude    0\n",
       "end_station_id             0\n",
       "end_station_name           0\n",
       "end_station_latitude       0\n",
       "end_station_longitude      0\n",
       "bike_id                    0\n",
       "user_type                  0\n",
       "member_birth_year          0\n",
       "member_gender              0\n",
       "bike_share_for_all_trip    0\n",
       "dtype: int64"
      ]
     },
     "execution_count": 150,
     "metadata": {},
     "output_type": "execute_result"
    }
   ],
   "source": [
    "#testing for changes\n",
    "df.isnull().sum()"
   ]
  },
  {
   "cell_type": "markdown",
   "metadata": {},
   "source": [
    "### 2) Define"
   ]
  },
  {
   "cell_type": "markdown",
   "metadata": {},
   "source": [
    "##### Converting Duration from sec to min by /60 and changing data type"
   ]
  },
  {
   "cell_type": "markdown",
   "metadata": {},
   "source": [
    "### Code"
   ]
  },
  {
   "cell_type": "code",
   "execution_count": 151,
   "metadata": {},
   "outputs": [],
   "source": [
    "# Changing data type .\n",
    "df['start_time'] = pd.to_datetime(df['start_time'])\n",
    "df['start_hour'] = df['start_time'].dt.hour"
   ]
  },
  {
   "cell_type": "code",
   "execution_count": 152,
   "metadata": {},
   "outputs": [],
   "source": [
    "# changing duration_sec to duration in minutes\n",
    "df['duration_sec'] = df['duration_sec']/60\n",
    "#df.rename(columns= {\"duration_sec\":\"duration_min\"}, inplace = True )"
   ]
  },
  {
   "cell_type": "markdown",
   "metadata": {},
   "source": [
    "### Test"
   ]
  },
  {
   "cell_type": "code",
   "execution_count": 153,
   "metadata": {},
   "outputs": [
    {
     "name": "stdout",
     "output_type": "stream",
     "text": [
      "<class 'pandas.core.frame.DataFrame'>\n",
      "Int64Index: 174952 entries, 0 to 183411\n",
      "Data columns (total 17 columns):\n",
      " #   Column                   Non-Null Count   Dtype         \n",
      "---  ------                   --------------   -----         \n",
      " 0   duration_sec             174952 non-null  float64       \n",
      " 1   start_time               174952 non-null  datetime64[ns]\n",
      " 2   end_time                 174952 non-null  object        \n",
      " 3   start_station_id         174952 non-null  float64       \n",
      " 4   start_station_name       174952 non-null  object        \n",
      " 5   start_station_latitude   174952 non-null  float64       \n",
      " 6   start_station_longitude  174952 non-null  float64       \n",
      " 7   end_station_id           174952 non-null  float64       \n",
      " 8   end_station_name         174952 non-null  object        \n",
      " 9   end_station_latitude     174952 non-null  float64       \n",
      " 10  end_station_longitude    174952 non-null  float64       \n",
      " 11  bike_id                  174952 non-null  int64         \n",
      " 12  user_type                174952 non-null  object        \n",
      " 13  member_birth_year        174952 non-null  float64       \n",
      " 14  member_gender            174952 non-null  object        \n",
      " 15  bike_share_for_all_trip  174952 non-null  object        \n",
      " 16  start_hour               174952 non-null  int64         \n",
      "dtypes: datetime64[ns](1), float64(8), int64(2), object(6)\n",
      "memory usage: 24.0+ MB\n"
     ]
    }
   ],
   "source": [
    "#testing for changes\n",
    "df.info()"
   ]
  },
  {
   "cell_type": "code",
   "execution_count": 154,
   "metadata": {},
   "outputs": [
    {
     "data": {
      "text/html": [
       "<div>\n",
       "<style scoped>\n",
       "    .dataframe tbody tr th:only-of-type {\n",
       "        vertical-align: middle;\n",
       "    }\n",
       "\n",
       "    .dataframe tbody tr th {\n",
       "        vertical-align: top;\n",
       "    }\n",
       "\n",
       "    .dataframe thead th {\n",
       "        text-align: right;\n",
       "    }\n",
       "</style>\n",
       "<table border=\"1\" class=\"dataframe\">\n",
       "  <thead>\n",
       "    <tr style=\"text-align: right;\">\n",
       "      <th></th>\n",
       "      <th>duration_sec</th>\n",
       "      <th>start_station_id</th>\n",
       "      <th>start_station_latitude</th>\n",
       "      <th>start_station_longitude</th>\n",
       "      <th>end_station_id</th>\n",
       "      <th>end_station_latitude</th>\n",
       "      <th>end_station_longitude</th>\n",
       "      <th>bike_id</th>\n",
       "      <th>member_birth_year</th>\n",
       "      <th>start_hour</th>\n",
       "    </tr>\n",
       "  </thead>\n",
       "  <tbody>\n",
       "    <tr>\n",
       "      <th>count</th>\n",
       "      <td>174952.000000</td>\n",
       "      <td>174952.000000</td>\n",
       "      <td>174952.000000</td>\n",
       "      <td>174952.000000</td>\n",
       "      <td>174952.000000</td>\n",
       "      <td>174952.000000</td>\n",
       "      <td>174952.000000</td>\n",
       "      <td>174952.000000</td>\n",
       "      <td>174952.000000</td>\n",
       "      <td>174952.000000</td>\n",
       "    </tr>\n",
       "    <tr>\n",
       "      <th>mean</th>\n",
       "      <td>11.733379</td>\n",
       "      <td>139.002126</td>\n",
       "      <td>37.771220</td>\n",
       "      <td>-122.351760</td>\n",
       "      <td>136.604486</td>\n",
       "      <td>37.771414</td>\n",
       "      <td>-122.351335</td>\n",
       "      <td>4482.587555</td>\n",
       "      <td>1984.803135</td>\n",
       "      <td>13.456165</td>\n",
       "    </tr>\n",
       "    <tr>\n",
       "      <th>std</th>\n",
       "      <td>27.370082</td>\n",
       "      <td>111.648819</td>\n",
       "      <td>0.100391</td>\n",
       "      <td>0.117732</td>\n",
       "      <td>111.335635</td>\n",
       "      <td>0.100295</td>\n",
       "      <td>0.117294</td>\n",
       "      <td>1659.195937</td>\n",
       "      <td>10.118731</td>\n",
       "      <td>4.734282</td>\n",
       "    </tr>\n",
       "    <tr>\n",
       "      <th>min</th>\n",
       "      <td>1.016667</td>\n",
       "      <td>3.000000</td>\n",
       "      <td>37.317298</td>\n",
       "      <td>-122.453704</td>\n",
       "      <td>3.000000</td>\n",
       "      <td>37.317298</td>\n",
       "      <td>-122.453704</td>\n",
       "      <td>11.000000</td>\n",
       "      <td>1878.000000</td>\n",
       "      <td>0.000000</td>\n",
       "    </tr>\n",
       "    <tr>\n",
       "      <th>25%</th>\n",
       "      <td>5.383333</td>\n",
       "      <td>47.000000</td>\n",
       "      <td>37.770407</td>\n",
       "      <td>-122.411901</td>\n",
       "      <td>44.000000</td>\n",
       "      <td>37.770407</td>\n",
       "      <td>-122.411647</td>\n",
       "      <td>3799.000000</td>\n",
       "      <td>1980.000000</td>\n",
       "      <td>9.000000</td>\n",
       "    </tr>\n",
       "    <tr>\n",
       "      <th>50%</th>\n",
       "      <td>8.500000</td>\n",
       "      <td>104.000000</td>\n",
       "      <td>37.780760</td>\n",
       "      <td>-122.398279</td>\n",
       "      <td>101.000000</td>\n",
       "      <td>37.781010</td>\n",
       "      <td>-122.397437</td>\n",
       "      <td>4960.000000</td>\n",
       "      <td>1987.000000</td>\n",
       "      <td>14.000000</td>\n",
       "    </tr>\n",
       "    <tr>\n",
       "      <th>75%</th>\n",
       "      <td>13.150000</td>\n",
       "      <td>239.000000</td>\n",
       "      <td>37.797320</td>\n",
       "      <td>-122.283093</td>\n",
       "      <td>238.000000</td>\n",
       "      <td>37.797673</td>\n",
       "      <td>-122.286533</td>\n",
       "      <td>5505.000000</td>\n",
       "      <td>1992.000000</td>\n",
       "      <td>17.000000</td>\n",
       "    </tr>\n",
       "    <tr>\n",
       "      <th>max</th>\n",
       "      <td>1409.133333</td>\n",
       "      <td>398.000000</td>\n",
       "      <td>37.880222</td>\n",
       "      <td>-121.874119</td>\n",
       "      <td>398.000000</td>\n",
       "      <td>37.880222</td>\n",
       "      <td>-121.874119</td>\n",
       "      <td>6645.000000</td>\n",
       "      <td>2001.000000</td>\n",
       "      <td>23.000000</td>\n",
       "    </tr>\n",
       "  </tbody>\n",
       "</table>\n",
       "</div>"
      ],
      "text/plain": [
       "        duration_sec  start_station_id  start_station_latitude  \\\n",
       "count  174952.000000     174952.000000           174952.000000   \n",
       "mean       11.733379        139.002126               37.771220   \n",
       "std        27.370082        111.648819                0.100391   \n",
       "min         1.016667          3.000000               37.317298   \n",
       "25%         5.383333         47.000000               37.770407   \n",
       "50%         8.500000        104.000000               37.780760   \n",
       "75%        13.150000        239.000000               37.797320   \n",
       "max      1409.133333        398.000000               37.880222   \n",
       "\n",
       "       start_station_longitude  end_station_id  end_station_latitude  \\\n",
       "count            174952.000000   174952.000000         174952.000000   \n",
       "mean               -122.351760      136.604486             37.771414   \n",
       "std                   0.117732      111.335635              0.100295   \n",
       "min                -122.453704        3.000000             37.317298   \n",
       "25%                -122.411901       44.000000             37.770407   \n",
       "50%                -122.398279      101.000000             37.781010   \n",
       "75%                -122.283093      238.000000             37.797673   \n",
       "max                -121.874119      398.000000             37.880222   \n",
       "\n",
       "       end_station_longitude        bike_id  member_birth_year     start_hour  \n",
       "count          174952.000000  174952.000000      174952.000000  174952.000000  \n",
       "mean             -122.351335    4482.587555        1984.803135      13.456165  \n",
       "std                 0.117294    1659.195937          10.118731       4.734282  \n",
       "min              -122.453704      11.000000        1878.000000       0.000000  \n",
       "25%              -122.411647    3799.000000        1980.000000       9.000000  \n",
       "50%              -122.397437    4960.000000        1987.000000      14.000000  \n",
       "75%              -122.286533    5505.000000        1992.000000      17.000000  \n",
       "max              -121.874119    6645.000000        2001.000000      23.000000  "
      ]
     },
     "execution_count": 154,
     "metadata": {},
     "output_type": "execute_result"
    }
   ],
   "source": [
    "#description of the data \n",
    "df.describe()"
   ]
  },
  {
   "cell_type": "markdown",
   "metadata": {},
   "source": [
    "- we can see that the min bornyear is 1878 ,we can consider it as outlier and drop those to 1929 (not more than 90 years )"
   ]
  },
  {
   "cell_type": "markdown",
   "metadata": {},
   "source": [
    "### 3) Define"
   ]
  },
  {
   "cell_type": "markdown",
   "metadata": {},
   "source": [
    "##### Deleting the age outliers and setting age below 80"
   ]
  },
  {
   "cell_type": "markdown",
   "metadata": {},
   "source": [
    "### Code"
   ]
  },
  {
   "cell_type": "code",
   "execution_count": 155,
   "metadata": {},
   "outputs": [
    {
     "data": {
      "text/html": [
       "<div>\n",
       "<style scoped>\n",
       "    .dataframe tbody tr th:only-of-type {\n",
       "        vertical-align: middle;\n",
       "    }\n",
       "\n",
       "    .dataframe tbody tr th {\n",
       "        vertical-align: top;\n",
       "    }\n",
       "\n",
       "    .dataframe thead th {\n",
       "        text-align: right;\n",
       "    }\n",
       "</style>\n",
       "<table border=\"1\" class=\"dataframe\">\n",
       "  <thead>\n",
       "    <tr style=\"text-align: right;\">\n",
       "      <th></th>\n",
       "      <th>duration_sec</th>\n",
       "      <th>start_time</th>\n",
       "      <th>end_time</th>\n",
       "      <th>start_station_id</th>\n",
       "      <th>start_station_name</th>\n",
       "      <th>start_station_latitude</th>\n",
       "      <th>start_station_longitude</th>\n",
       "      <th>end_station_id</th>\n",
       "      <th>end_station_name</th>\n",
       "      <th>end_station_latitude</th>\n",
       "      <th>end_station_longitude</th>\n",
       "      <th>bike_id</th>\n",
       "      <th>user_type</th>\n",
       "      <th>member_birth_year</th>\n",
       "      <th>member_gender</th>\n",
       "      <th>bike_share_for_all_trip</th>\n",
       "      <th>start_hour</th>\n",
       "    </tr>\n",
       "  </thead>\n",
       "  <tbody>\n",
       "    <tr>\n",
       "      <th>1285</th>\n",
       "      <td>2.466667</td>\n",
       "      <td>2019-02-28 19:29:17.627</td>\n",
       "      <td>2019-02-28 19:31:45.9670</td>\n",
       "      <td>158.0</td>\n",
       "      <td>Shattuck Ave at Telegraph Ave</td>\n",
       "      <td>37.833279</td>\n",
       "      <td>-122.263490</td>\n",
       "      <td>173.0</td>\n",
       "      <td>Shattuck Ave at 55th St</td>\n",
       "      <td>37.840364</td>\n",
       "      <td>-122.264488</td>\n",
       "      <td>5391</td>\n",
       "      <td>Subscriber</td>\n",
       "      <td>1900.0</td>\n",
       "      <td>Male</td>\n",
       "      <td>Yes</td>\n",
       "      <td>19</td>\n",
       "    </tr>\n",
       "    <tr>\n",
       "      <th>5197</th>\n",
       "      <td>3.616667</td>\n",
       "      <td>2019-02-28 13:51:46.238</td>\n",
       "      <td>2019-02-28 13:55:24.1270</td>\n",
       "      <td>70.0</td>\n",
       "      <td>Central Ave at Fell St</td>\n",
       "      <td>37.773311</td>\n",
       "      <td>-122.444293</td>\n",
       "      <td>71.0</td>\n",
       "      <td>Broderick St at Oak St</td>\n",
       "      <td>37.773063</td>\n",
       "      <td>-122.439078</td>\n",
       "      <td>5801</td>\n",
       "      <td>Subscriber</td>\n",
       "      <td>1931.0</td>\n",
       "      <td>Male</td>\n",
       "      <td>No</td>\n",
       "      <td>13</td>\n",
       "    </tr>\n",
       "    <tr>\n",
       "      <th>5266</th>\n",
       "      <td>6.400000</td>\n",
       "      <td>2019-02-28 13:35:05.428</td>\n",
       "      <td>2019-02-28 13:41:30.2230</td>\n",
       "      <td>84.0</td>\n",
       "      <td>Duboce Park</td>\n",
       "      <td>37.769201</td>\n",
       "      <td>-122.433812</td>\n",
       "      <td>71.0</td>\n",
       "      <td>Broderick St at Oak St</td>\n",
       "      <td>37.773063</td>\n",
       "      <td>-122.439078</td>\n",
       "      <td>6608</td>\n",
       "      <td>Subscriber</td>\n",
       "      <td>1931.0</td>\n",
       "      <td>Male</td>\n",
       "      <td>No</td>\n",
       "      <td>13</td>\n",
       "    </tr>\n",
       "    <tr>\n",
       "      <th>5447</th>\n",
       "      <td>2.450000</td>\n",
       "      <td>2019-02-28 13:08:56.935</td>\n",
       "      <td>2019-02-28 13:11:24.0620</td>\n",
       "      <td>84.0</td>\n",
       "      <td>Duboce Park</td>\n",
       "      <td>37.769201</td>\n",
       "      <td>-122.433812</td>\n",
       "      <td>72.0</td>\n",
       "      <td>Page St at Scott St</td>\n",
       "      <td>37.772406</td>\n",
       "      <td>-122.435650</td>\n",
       "      <td>5018</td>\n",
       "      <td>Subscriber</td>\n",
       "      <td>1931.0</td>\n",
       "      <td>Male</td>\n",
       "      <td>No</td>\n",
       "      <td>13</td>\n",
       "    </tr>\n",
       "    <tr>\n",
       "      <th>10827</th>\n",
       "      <td>21.916667</td>\n",
       "      <td>2019-02-27 19:21:34.436</td>\n",
       "      <td>2019-02-27 19:43:30.0080</td>\n",
       "      <td>343.0</td>\n",
       "      <td>Bryant St at 2nd St</td>\n",
       "      <td>37.783172</td>\n",
       "      <td>-122.393572</td>\n",
       "      <td>375.0</td>\n",
       "      <td>Grove St at Masonic Ave</td>\n",
       "      <td>37.774836</td>\n",
       "      <td>-122.446546</td>\n",
       "      <td>6249</td>\n",
       "      <td>Subscriber</td>\n",
       "      <td>1900.0</td>\n",
       "      <td>Male</td>\n",
       "      <td>No</td>\n",
       "      <td>19</td>\n",
       "    </tr>\n",
       "    <tr>\n",
       "      <th>...</th>\n",
       "      <td>...</td>\n",
       "      <td>...</td>\n",
       "      <td>...</td>\n",
       "      <td>...</td>\n",
       "      <td>...</td>\n",
       "      <td>...</td>\n",
       "      <td>...</td>\n",
       "      <td>...</td>\n",
       "      <td>...</td>\n",
       "      <td>...</td>\n",
       "      <td>...</td>\n",
       "      <td>...</td>\n",
       "      <td>...</td>\n",
       "      <td>...</td>\n",
       "      <td>...</td>\n",
       "      <td>...</td>\n",
       "      <td>...</td>\n",
       "    </tr>\n",
       "    <tr>\n",
       "      <th>177885</th>\n",
       "      <td>8.616667</td>\n",
       "      <td>2019-02-01 18:38:40.471</td>\n",
       "      <td>2019-02-01 18:47:18.3920</td>\n",
       "      <td>25.0</td>\n",
       "      <td>Howard St at 2nd St</td>\n",
       "      <td>37.787522</td>\n",
       "      <td>-122.397405</td>\n",
       "      <td>30.0</td>\n",
       "      <td>San Francisco Caltrain (Townsend St at 4th St)</td>\n",
       "      <td>37.776598</td>\n",
       "      <td>-122.395282</td>\n",
       "      <td>2175</td>\n",
       "      <td>Subscriber</td>\n",
       "      <td>1902.0</td>\n",
       "      <td>Female</td>\n",
       "      <td>No</td>\n",
       "      <td>18</td>\n",
       "    </tr>\n",
       "    <tr>\n",
       "      <th>177955</th>\n",
       "      <td>6.283333</td>\n",
       "      <td>2019-02-01 18:23:33.411</td>\n",
       "      <td>2019-02-01 18:29:50.7950</td>\n",
       "      <td>26.0</td>\n",
       "      <td>1st St at Folsom St</td>\n",
       "      <td>37.787290</td>\n",
       "      <td>-122.394380</td>\n",
       "      <td>321.0</td>\n",
       "      <td>5th St at Folsom</td>\n",
       "      <td>37.780146</td>\n",
       "      <td>-122.403071</td>\n",
       "      <td>5444</td>\n",
       "      <td>Subscriber</td>\n",
       "      <td>1933.0</td>\n",
       "      <td>Female</td>\n",
       "      <td>Yes</td>\n",
       "      <td>18</td>\n",
       "    </tr>\n",
       "    <tr>\n",
       "      <th>179280</th>\n",
       "      <td>5.916667</td>\n",
       "      <td>2019-02-01 14:32:42.247</td>\n",
       "      <td>2019-02-01 14:38:37.8960</td>\n",
       "      <td>134.0</td>\n",
       "      <td>Valencia St at 24th St</td>\n",
       "      <td>37.752428</td>\n",
       "      <td>-122.420628</td>\n",
       "      <td>131.0</td>\n",
       "      <td>22nd St at Dolores St</td>\n",
       "      <td>37.755000</td>\n",
       "      <td>-122.425728</td>\n",
       "      <td>1815</td>\n",
       "      <td>Subscriber</td>\n",
       "      <td>1938.0</td>\n",
       "      <td>Male</td>\n",
       "      <td>No</td>\n",
       "      <td>14</td>\n",
       "    </tr>\n",
       "    <tr>\n",
       "      <th>182830</th>\n",
       "      <td>7.133333</td>\n",
       "      <td>2019-02-01 07:45:05.934</td>\n",
       "      <td>2019-02-01 07:52:14.9220</td>\n",
       "      <td>284.0</td>\n",
       "      <td>Yerba Buena Center for the Arts (Howard St at ...</td>\n",
       "      <td>37.784872</td>\n",
       "      <td>-122.400876</td>\n",
       "      <td>67.0</td>\n",
       "      <td>San Francisco Caltrain Station 2  (Townsend St...</td>\n",
       "      <td>37.776639</td>\n",
       "      <td>-122.395526</td>\n",
       "      <td>5031</td>\n",
       "      <td>Subscriber</td>\n",
       "      <td>1901.0</td>\n",
       "      <td>Male</td>\n",
       "      <td>No</td>\n",
       "      <td>7</td>\n",
       "    </tr>\n",
       "    <tr>\n",
       "      <th>183388</th>\n",
       "      <td>8.166667</td>\n",
       "      <td>2019-02-01 00:39:53.112</td>\n",
       "      <td>2019-02-01 00:48:03.3380</td>\n",
       "      <td>61.0</td>\n",
       "      <td>Howard St at 8th St</td>\n",
       "      <td>37.776513</td>\n",
       "      <td>-122.411306</td>\n",
       "      <td>81.0</td>\n",
       "      <td>Berry St at 4th St</td>\n",
       "      <td>37.775880</td>\n",
       "      <td>-122.393170</td>\n",
       "      <td>5411</td>\n",
       "      <td>Subscriber</td>\n",
       "      <td>1927.0</td>\n",
       "      <td>Male</td>\n",
       "      <td>No</td>\n",
       "      <td>0</td>\n",
       "    </tr>\n",
       "  </tbody>\n",
       "</table>\n",
       "<p>192 rows × 17 columns</p>\n",
       "</div>"
      ],
      "text/plain": [
       "        duration_sec              start_time                  end_time  \\\n",
       "1285        2.466667 2019-02-28 19:29:17.627  2019-02-28 19:31:45.9670   \n",
       "5197        3.616667 2019-02-28 13:51:46.238  2019-02-28 13:55:24.1270   \n",
       "5266        6.400000 2019-02-28 13:35:05.428  2019-02-28 13:41:30.2230   \n",
       "5447        2.450000 2019-02-28 13:08:56.935  2019-02-28 13:11:24.0620   \n",
       "10827      21.916667 2019-02-27 19:21:34.436  2019-02-27 19:43:30.0080   \n",
       "...              ...                     ...                       ...   \n",
       "177885      8.616667 2019-02-01 18:38:40.471  2019-02-01 18:47:18.3920   \n",
       "177955      6.283333 2019-02-01 18:23:33.411  2019-02-01 18:29:50.7950   \n",
       "179280      5.916667 2019-02-01 14:32:42.247  2019-02-01 14:38:37.8960   \n",
       "182830      7.133333 2019-02-01 07:45:05.934  2019-02-01 07:52:14.9220   \n",
       "183388      8.166667 2019-02-01 00:39:53.112  2019-02-01 00:48:03.3380   \n",
       "\n",
       "        start_station_id                                 start_station_name  \\\n",
       "1285               158.0                      Shattuck Ave at Telegraph Ave   \n",
       "5197                70.0                             Central Ave at Fell St   \n",
       "5266                84.0                                        Duboce Park   \n",
       "5447                84.0                                        Duboce Park   \n",
       "10827              343.0                                Bryant St at 2nd St   \n",
       "...                  ...                                                ...   \n",
       "177885              25.0                                Howard St at 2nd St   \n",
       "177955              26.0                                1st St at Folsom St   \n",
       "179280             134.0                             Valencia St at 24th St   \n",
       "182830             284.0  Yerba Buena Center for the Arts (Howard St at ...   \n",
       "183388              61.0                                Howard St at 8th St   \n",
       "\n",
       "        start_station_latitude  start_station_longitude  end_station_id  \\\n",
       "1285                 37.833279              -122.263490           173.0   \n",
       "5197                 37.773311              -122.444293            71.0   \n",
       "5266                 37.769201              -122.433812            71.0   \n",
       "5447                 37.769201              -122.433812            72.0   \n",
       "10827                37.783172              -122.393572           375.0   \n",
       "...                        ...                      ...             ...   \n",
       "177885               37.787522              -122.397405            30.0   \n",
       "177955               37.787290              -122.394380           321.0   \n",
       "179280               37.752428              -122.420628           131.0   \n",
       "182830               37.784872              -122.400876            67.0   \n",
       "183388               37.776513              -122.411306            81.0   \n",
       "\n",
       "                                         end_station_name  \\\n",
       "1285                              Shattuck Ave at 55th St   \n",
       "5197                               Broderick St at Oak St   \n",
       "5266                               Broderick St at Oak St   \n",
       "5447                                  Page St at Scott St   \n",
       "10827                             Grove St at Masonic Ave   \n",
       "...                                                   ...   \n",
       "177885     San Francisco Caltrain (Townsend St at 4th St)   \n",
       "177955                                   5th St at Folsom   \n",
       "179280                              22nd St at Dolores St   \n",
       "182830  San Francisco Caltrain Station 2  (Townsend St...   \n",
       "183388                                 Berry St at 4th St   \n",
       "\n",
       "        end_station_latitude  end_station_longitude  bike_id   user_type  \\\n",
       "1285               37.840364            -122.264488     5391  Subscriber   \n",
       "5197               37.773063            -122.439078     5801  Subscriber   \n",
       "5266               37.773063            -122.439078     6608  Subscriber   \n",
       "5447               37.772406            -122.435650     5018  Subscriber   \n",
       "10827              37.774836            -122.446546     6249  Subscriber   \n",
       "...                      ...                    ...      ...         ...   \n",
       "177885             37.776598            -122.395282     2175  Subscriber   \n",
       "177955             37.780146            -122.403071     5444  Subscriber   \n",
       "179280             37.755000            -122.425728     1815  Subscriber   \n",
       "182830             37.776639            -122.395526     5031  Subscriber   \n",
       "183388             37.775880            -122.393170     5411  Subscriber   \n",
       "\n",
       "        member_birth_year member_gender bike_share_for_all_trip  start_hour  \n",
       "1285               1900.0          Male                     Yes          19  \n",
       "5197               1931.0          Male                      No          13  \n",
       "5266               1931.0          Male                      No          13  \n",
       "5447               1931.0          Male                      No          13  \n",
       "10827              1900.0          Male                      No          19  \n",
       "...                   ...           ...                     ...         ...  \n",
       "177885             1902.0        Female                      No          18  \n",
       "177955             1933.0        Female                     Yes          18  \n",
       "179280             1938.0          Male                      No          14  \n",
       "182830             1901.0          Male                      No           7  \n",
       "183388             1927.0          Male                      No           0  \n",
       "\n",
       "[192 rows x 17 columns]"
      ]
     },
     "execution_count": 155,
     "metadata": {},
     "output_type": "execute_result"
    }
   ],
   "source": [
    "#considering from 1939 onwards\n",
    "Age=df[df.member_birth_year < 1939]\n",
    "Age"
   ]
  },
  {
   "cell_type": "code",
   "execution_count": 156,
   "metadata": {},
   "outputs": [],
   "source": [
    "# droping Age > 90 \n",
    "df.drop(df[(df.member_birth_year < 1929 )].index, inplace = True)"
   ]
  },
  {
   "cell_type": "markdown",
   "metadata": {},
   "source": [
    "### Test"
   ]
  },
  {
   "cell_type": "code",
   "execution_count": 157,
   "metadata": {},
   "outputs": [
    {
     "data": {
      "text/html": [
       "<div>\n",
       "<style scoped>\n",
       "    .dataframe tbody tr th:only-of-type {\n",
       "        vertical-align: middle;\n",
       "    }\n",
       "\n",
       "    .dataframe tbody tr th {\n",
       "        vertical-align: top;\n",
       "    }\n",
       "\n",
       "    .dataframe thead th {\n",
       "        text-align: right;\n",
       "    }\n",
       "</style>\n",
       "<table border=\"1\" class=\"dataframe\">\n",
       "  <thead>\n",
       "    <tr style=\"text-align: right;\">\n",
       "      <th></th>\n",
       "      <th>duration_sec</th>\n",
       "      <th>start_station_id</th>\n",
       "      <th>start_station_latitude</th>\n",
       "      <th>start_station_longitude</th>\n",
       "      <th>end_station_id</th>\n",
       "      <th>end_station_latitude</th>\n",
       "      <th>end_station_longitude</th>\n",
       "      <th>bike_id</th>\n",
       "      <th>member_birth_year</th>\n",
       "      <th>start_hour</th>\n",
       "    </tr>\n",
       "  </thead>\n",
       "  <tbody>\n",
       "    <tr>\n",
       "      <th>count</th>\n",
       "      <td>174875.000000</td>\n",
       "      <td>174875.000000</td>\n",
       "      <td>174875.000000</td>\n",
       "      <td>174875.000000</td>\n",
       "      <td>174875.000000</td>\n",
       "      <td>174875.000000</td>\n",
       "      <td>174875.000000</td>\n",
       "      <td>174875.000000</td>\n",
       "      <td>174875.000000</td>\n",
       "      <td>174875.000000</td>\n",
       "    </tr>\n",
       "    <tr>\n",
       "      <th>mean</th>\n",
       "      <td>11.733800</td>\n",
       "      <td>138.981141</td>\n",
       "      <td>37.771206</td>\n",
       "      <td>-122.351758</td>\n",
       "      <td>136.604655</td>\n",
       "      <td>37.771401</td>\n",
       "      <td>-122.351334</td>\n",
       "      <td>4482.518273</td>\n",
       "      <td>1984.839726</td>\n",
       "      <td>13.456172</td>\n",
       "    </tr>\n",
       "    <tr>\n",
       "      <th>std</th>\n",
       "      <td>27.375632</td>\n",
       "      <td>111.637185</td>\n",
       "      <td>0.100409</td>\n",
       "      <td>0.117748</td>\n",
       "      <td>111.333687</td>\n",
       "      <td>0.100314</td>\n",
       "      <td>0.117311</td>\n",
       "      <td>1659.218012</td>\n",
       "      <td>9.968641</td>\n",
       "      <td>4.734320</td>\n",
       "    </tr>\n",
       "    <tr>\n",
       "      <th>min</th>\n",
       "      <td>1.016667</td>\n",
       "      <td>3.000000</td>\n",
       "      <td>37.317298</td>\n",
       "      <td>-122.453704</td>\n",
       "      <td>3.000000</td>\n",
       "      <td>37.317298</td>\n",
       "      <td>-122.453704</td>\n",
       "      <td>11.000000</td>\n",
       "      <td>1930.000000</td>\n",
       "      <td>0.000000</td>\n",
       "    </tr>\n",
       "    <tr>\n",
       "      <th>25%</th>\n",
       "      <td>5.383333</td>\n",
       "      <td>47.000000</td>\n",
       "      <td>37.770407</td>\n",
       "      <td>-122.411901</td>\n",
       "      <td>44.000000</td>\n",
       "      <td>37.770407</td>\n",
       "      <td>-122.411647</td>\n",
       "      <td>3799.000000</td>\n",
       "      <td>1980.000000</td>\n",
       "      <td>9.000000</td>\n",
       "    </tr>\n",
       "    <tr>\n",
       "      <th>50%</th>\n",
       "      <td>8.500000</td>\n",
       "      <td>104.000000</td>\n",
       "      <td>37.780760</td>\n",
       "      <td>-122.398279</td>\n",
       "      <td>101.000000</td>\n",
       "      <td>37.781010</td>\n",
       "      <td>-122.397437</td>\n",
       "      <td>4960.000000</td>\n",
       "      <td>1987.000000</td>\n",
       "      <td>14.000000</td>\n",
       "    </tr>\n",
       "    <tr>\n",
       "      <th>75%</th>\n",
       "      <td>13.150000</td>\n",
       "      <td>239.000000</td>\n",
       "      <td>37.797320</td>\n",
       "      <td>-122.283093</td>\n",
       "      <td>238.000000</td>\n",
       "      <td>37.797673</td>\n",
       "      <td>-122.286533</td>\n",
       "      <td>5505.000000</td>\n",
       "      <td>1992.000000</td>\n",
       "      <td>17.000000</td>\n",
       "    </tr>\n",
       "    <tr>\n",
       "      <th>max</th>\n",
       "      <td>1409.133333</td>\n",
       "      <td>398.000000</td>\n",
       "      <td>37.880222</td>\n",
       "      <td>-121.874119</td>\n",
       "      <td>398.000000</td>\n",
       "      <td>37.880222</td>\n",
       "      <td>-121.874119</td>\n",
       "      <td>6645.000000</td>\n",
       "      <td>2001.000000</td>\n",
       "      <td>23.000000</td>\n",
       "    </tr>\n",
       "  </tbody>\n",
       "</table>\n",
       "</div>"
      ],
      "text/plain": [
       "        duration_sec  start_station_id  start_station_latitude  \\\n",
       "count  174875.000000     174875.000000           174875.000000   \n",
       "mean       11.733800        138.981141               37.771206   \n",
       "std        27.375632        111.637185                0.100409   \n",
       "min         1.016667          3.000000               37.317298   \n",
       "25%         5.383333         47.000000               37.770407   \n",
       "50%         8.500000        104.000000               37.780760   \n",
       "75%        13.150000        239.000000               37.797320   \n",
       "max      1409.133333        398.000000               37.880222   \n",
       "\n",
       "       start_station_longitude  end_station_id  end_station_latitude  \\\n",
       "count            174875.000000   174875.000000         174875.000000   \n",
       "mean               -122.351758      136.604655             37.771401   \n",
       "std                   0.117748      111.333687              0.100314   \n",
       "min                -122.453704        3.000000             37.317298   \n",
       "25%                -122.411901       44.000000             37.770407   \n",
       "50%                -122.398279      101.000000             37.781010   \n",
       "75%                -122.283093      238.000000             37.797673   \n",
       "max                -121.874119      398.000000             37.880222   \n",
       "\n",
       "       end_station_longitude        bike_id  member_birth_year     start_hour  \n",
       "count          174875.000000  174875.000000      174875.000000  174875.000000  \n",
       "mean             -122.351334    4482.518273        1984.839726      13.456172  \n",
       "std                 0.117311    1659.218012           9.968641       4.734320  \n",
       "min              -122.453704      11.000000        1930.000000       0.000000  \n",
       "25%              -122.411647    3799.000000        1980.000000       9.000000  \n",
       "50%              -122.397437    4960.000000        1987.000000      14.000000  \n",
       "75%              -122.286533    5505.000000        1992.000000      17.000000  \n",
       "max              -121.874119    6645.000000        2001.000000      23.000000  "
      ]
     },
     "execution_count": 157,
     "metadata": {},
     "output_type": "execute_result"
    }
   ],
   "source": [
    "#testing for changes\n",
    "df.describe()"
   ]
  },
  {
   "cell_type": "markdown",
   "metadata": {},
   "source": [
    "### 4) Define"
   ]
  },
  {
   "cell_type": "markdown",
   "metadata": {},
   "source": [
    "##### Age is ok but not that is enought we need to find age in number for better and easy analysis"
   ]
  },
  {
   "cell_type": "markdown",
   "metadata": {},
   "source": [
    "### Code"
   ]
  },
  {
   "cell_type": "code",
   "execution_count": 158,
   "metadata": {},
   "outputs": [],
   "source": [
    "# Age will have only age in number\n",
    "df['Age'] = 2019 - df.member_birth_year"
   ]
  },
  {
   "cell_type": "markdown",
   "metadata": {},
   "source": [
    "### Test"
   ]
  },
  {
   "cell_type": "code",
   "execution_count": 159,
   "metadata": {},
   "outputs": [
    {
     "data": {
      "text/plain": [
       "0    35.0\n",
       "2    47.0\n",
       "3    30.0\n",
       "4    45.0\n",
       "5    60.0\n",
       "Name: Age, dtype: float64"
      ]
     },
     "execution_count": 159,
     "metadata": {},
     "output_type": "execute_result"
    }
   ],
   "source": [
    "#testing for changes\n",
    "df.Age.head()"
   ]
  },
  {
   "cell_type": "markdown",
   "metadata": {},
   "source": [
    "### 5) Define"
   ]
  },
  {
   "cell_type": "markdown",
   "metadata": {},
   "source": [
    "##### Making start time into 2 columns hour and day"
   ]
  },
  {
   "cell_type": "markdown",
   "metadata": {},
   "source": [
    "### Code"
   ]
  },
  {
   "cell_type": "code",
   "execution_count": 160,
   "metadata": {},
   "outputs": [],
   "source": [
    "# using datatime module to change given formate  \n",
    "df[\"start_time\"] = pd.to_datetime(df[\"start_time\"])"
   ]
  },
  {
   "cell_type": "markdown",
   "metadata": {},
   "source": [
    "### Test"
   ]
  },
  {
   "cell_type": "code",
   "execution_count": 161,
   "metadata": {},
   "outputs": [
    {
     "data": {
      "text/plain": [
       "Index(['duration_sec', 'start_time', 'end_time', 'start_station_id',\n",
       "       'start_station_name', 'start_station_latitude',\n",
       "       'start_station_longitude', 'end_station_id', 'end_station_name',\n",
       "       'end_station_latitude', 'end_station_longitude', 'bike_id', 'user_type',\n",
       "       'member_birth_year', 'member_gender', 'bike_share_for_all_trip',\n",
       "       'start_hour', 'Age'],\n",
       "      dtype='object')"
      ]
     },
     "execution_count": 161,
     "metadata": {},
     "output_type": "execute_result"
    }
   ],
   "source": [
    "#testing for changes\n",
    "df.columns"
   ]
  },
  {
   "cell_type": "code",
   "execution_count": 162,
   "metadata": {},
   "outputs": [
    {
     "name": "stdout",
     "output_type": "stream",
     "text": [
      "<class 'pandas.core.frame.DataFrame'>\n",
      "Int64Index: 174875 entries, 0 to 183411\n",
      "Data columns (total 18 columns):\n",
      " #   Column                   Non-Null Count   Dtype         \n",
      "---  ------                   --------------   -----         \n",
      " 0   duration_sec             174875 non-null  float64       \n",
      " 1   start_time               174875 non-null  datetime64[ns]\n",
      " 2   end_time                 174875 non-null  object        \n",
      " 3   start_station_id         174875 non-null  float64       \n",
      " 4   start_station_name       174875 non-null  object        \n",
      " 5   start_station_latitude   174875 non-null  float64       \n",
      " 6   start_station_longitude  174875 non-null  float64       \n",
      " 7   end_station_id           174875 non-null  float64       \n",
      " 8   end_station_name         174875 non-null  object        \n",
      " 9   end_station_latitude     174875 non-null  float64       \n",
      " 10  end_station_longitude    174875 non-null  float64       \n",
      " 11  bike_id                  174875 non-null  int64         \n",
      " 12  user_type                174875 non-null  object        \n",
      " 13  member_birth_year        174875 non-null  float64       \n",
      " 14  member_gender            174875 non-null  object        \n",
      " 15  bike_share_for_all_trip  174875 non-null  object        \n",
      " 16  start_hour               174875 non-null  int64         \n",
      " 17  Age                      174875 non-null  float64       \n",
      "dtypes: datetime64[ns](1), float64(9), int64(2), object(6)\n",
      "memory usage: 25.3+ MB\n"
     ]
    }
   ],
   "source": [
    "df.info()"
   ]
  },
  {
   "cell_type": "markdown",
   "metadata": {},
   "source": [
    "### 6) Define"
   ]
  },
  {
   "cell_type": "markdown",
   "metadata": {},
   "source": [
    "##### Dropping unwanted columns"
   ]
  },
  {
   "cell_type": "markdown",
   "metadata": {},
   "source": [
    "### Code"
   ]
  },
  {
   "cell_type": "code",
   "execution_count": 163,
   "metadata": {},
   "outputs": [],
   "source": [
    "#using drop to remove unwanted columns\n",
    "df = df.drop(['start_time','end_time','start_station_id','start_station_name','start_station_latitude','start_station_longitude','end_station_id','end_station_name','end_station_latitude','end_station_longitude','bike_id','member_birth_year','bike_share_for_all_trip'], axis = 1)"
   ]
  },
  {
   "cell_type": "markdown",
   "metadata": {},
   "source": [
    "### Test"
   ]
  },
  {
   "cell_type": "code",
   "execution_count": 164,
   "metadata": {},
   "outputs": [
    {
     "data": {
      "text/plain": [
       "Index(['duration_sec', 'user_type', 'member_gender', 'start_hour', 'Age'], dtype='object')"
      ]
     },
     "execution_count": 164,
     "metadata": {},
     "output_type": "execute_result"
    }
   ],
   "source": [
    "#testing for changes\n",
    "df.columns"
   ]
  },
  {
   "cell_type": "markdown",
   "metadata": {},
   "source": [
    "# Data Exploration"
   ]
  },
  {
   "cell_type": "markdown",
   "metadata": {},
   "source": [
    "#### As there nothing mentioned on numbers, we are going to explore atleast 3 visulizations from each variate "
   ]
  },
  {
   "cell_type": "markdown",
   "metadata": {},
   "source": [
    "\n",
    "## Univariate Exploration"
   ]
  },
  {
   "cell_type": "markdown",
   "metadata": {},
   "source": [
    "### Gender"
   ]
  },
  {
   "cell_type": "code",
   "execution_count": 165,
   "metadata": {},
   "outputs": [
    {
     "data": {
      "image/png": "[encoded data removed]",
      "text/plain": [
       "<Figure size 576x576 with 1 Axes>"
      ]
     },
     "metadata": {},
     "output_type": "display_data"
    }
   ],
   "source": [
    "# plotting a pie \n",
    "plt.figure(figsize=(8,8))\n",
    "Gender_counts = df['member_gender'].value_counts()\n",
    "\n",
    "plt.pie(Gender_counts, labels = ['Male','Female','other'], startangle = 90,explode =(0 , 0.1, 0.1)  ,\n",
    "        counterclock = False);\n",
    "plt.title('Gender Discussion');"
   ]
  },
  {
   "cell_type": "markdown",
   "metadata": {},
   "source": [
    "##### Note: We can have a look at Gender distribution ,female has around 30% ,which mean male use more bikes to ride than female"
   ]
  },
  {
   "cell_type": "markdown",
   "metadata": {},
   "source": [
    "### Subscription"
   ]
  },
  {
   "cell_type": "code",
   "execution_count": 166,
   "metadata": {},
   "outputs": [
    {
     "data": {
      "image/png": "[encoded data removed]",
      "text/plain": [
       "<Figure size 576x576 with 1 Axes>"
      ]
     },
     "metadata": {
      "needs_background": "light"
     },
     "output_type": "display_data"
    }
   ],
   "source": [
    "# plotting a bar \n",
    "#print(df['user_type'].value_counts())\n",
    "plt.figure(figsize = (8,8))\n",
    "sns.countplot(data = df, x = 'user_type', order = df['user_type'].value_counts().index, color = sns.color_palette()[2]);\n",
    "plt.title('subscriber and custumer in counts');"
   ]
  },
  {
   "cell_type": "markdown",
   "metadata": {},
   "source": [
    "##### Note: bike users are mostly subscribers almost 80%"
   ]
  },
  {
   "cell_type": "markdown",
   "metadata": {},
   "source": [
    "### Age"
   ]
  },
  {
   "cell_type": "code",
   "execution_count": 167,
   "metadata": {},
   "outputs": [
    {
     "data": {
      "image/png": "[encoded data removed]",
      "text/plain": [
       "<Figure size 864x432 with 1 Axes>"
      ]
     },
     "metadata": {
      "needs_background": "light"
     },
     "output_type": "display_data"
    }
   ],
   "source": [
    "#plotting a histogram to check the count for perticular age \n",
    "plt.figure(figsize=(12,6))\n",
    "plt.hist(df['Age'],bins = 15);\n",
    "plt.title('Member age');\n",
    "plt.xlabel('Age');\n",
    "plt.ylabel('counts');"
   ]
  },
  {
   "cell_type": "markdown",
   "metadata": {},
   "source": [
    "##### Note: Most of bike users are around 30 and between 20-50"
   ]
  },
  {
   "cell_type": "markdown",
   "metadata": {},
   "source": [
    "### Duration_sec"
   ]
  },
  {
   "cell_type": "code",
   "execution_count": 168,
   "metadata": {},
   "outputs": [
    {
     "data": {
      "image/png": "[encoded data removed]",
      "text/plain": [
       "<Figure size 576x288 with 1 Axes>"
      ]
     },
     "metadata": {
      "needs_background": "light"
     },
     "output_type": "display_data"
    }
   ],
   "source": [
    "# plot histogram to check the distribution of durations\n",
    "\n",
    "binsize = 8\n",
    "bins = np.arange(0, df['duration_sec'].max()+binsize, binsize)\n",
    "\n",
    "plt.figure(figsize=[8, 4])\n",
    "\n",
    "plt.hist(data = df, x = 'duration_sec', bins=bins);\n",
    "\n",
    "\n",
    "plt.xlabel('Duration of the trips');\n",
    "plt.ylabel('Counts');"
   ]
  },
  {
   "cell_type": "markdown",
   "metadata": {},
   "source": [
    "## Discuss the distribution(s) of your variable(s) of interest. Were there any unusual points? Did you need to perform any transformations?"
   ]
  },
  {
   "cell_type": "markdown",
   "metadata": {},
   "source": [
    "- The dataset contains many males than females.\n",
    "- subscribers are more than customers\n",
    "- The duration in secs of the trips are most of them in between 200 to 1000...meaning that most trip are less then 15 minutes! Which makes a lot of sense because this service works with single rides (up to 30 minutes)"
   ]
  },
  {
   "cell_type": "markdown",
   "metadata": {},
   "source": [
    "### Of the features you investigated, were there any unusual distributions? Did you perform any operations on the data to tidy, adjust, or change the form of the data? If so, why did you do this?"
   ]
  },
  {
   "cell_type": "markdown",
   "metadata": {},
   "source": [
    "- The age attribute had some outliers that may change the distribution, so I restricted the age range to be below 90\n",
    "- converted birth year data numbers and time to hour day and finally dropped some unwanted columns"
   ]
  },
  {
   "cell_type": "markdown",
   "metadata": {},
   "source": [
    "# Bivariate Exploration"
   ]
  },
  {
   "cell_type": "code",
   "execution_count": 169,
   "metadata": {},
   "outputs": [
    {
     "data": {
      "image/png": "[encoded data removed]",
      "text/plain": [
       "<Figure size 360x360 with 1 Axes>"
      ]
     },
     "metadata": {
      "needs_background": "light"
     },
     "output_type": "display_data"
    }
   ],
   "source": [
    "plt.figure(figsize = [5, 5]);\n",
    "\n",
    "sns.countplot(data = df, x = 'member_gender', hue = 'user_type');\n",
    "\n",
    "plt.title('Users Birth Year and Trip Duration in Seconds');"
   ]
  },
  {
   "cell_type": "markdown",
   "metadata": {},
   "source": [
    "#### Note: irrespective of the gender only subscriber user number are way greater "
   ]
  },
  {
   "cell_type": "code",
   "execution_count": 170,
   "metadata": {
    "scrolled": true
   },
   "outputs": [
    {
     "data": {
      "image/png": "[encoded data removed]",
      "text/plain": [
       "<Figure size 720x360 with 1 Axes>"
      ]
     },
     "metadata": {
      "needs_background": "light"
     },
     "output_type": "display_data"
    }
   ],
   "source": [
    "# plotting to find the duration taken as per their age\n",
    "plt.figure(figsize=[10, 5])\n",
    "#sns.regplot(data = df, x='Age', y='duration_sec'truncate=False, x_jitter=0.3, scatter_kws={'alpha':1/20});\n",
    "sns.regplot(data = df, x = 'Age', y = 'duration_sec', truncate=False, x_jitter=0.3, scatter_kws={'alpha':1/20});\n",
    "plt.ylabel('Trip Duration in Seconds');\n",
    "plt.title('Age and trip duration in seconds');"
   ]
  },
  {
   "cell_type": "markdown",
   "metadata": {},
   "source": [
    "#### Note: People between 20 and 40 years old tends to take more time in taking trips."
   ]
  },
  {
   "cell_type": "code",
   "execution_count": 171,
   "metadata": {},
   "outputs": [
    {
     "data": {
      "image/png": "[encoded data removed]",
      "text/plain": [
       "<Figure size 720x360 with 1 Axes>"
      ]
     },
     "metadata": {
      "needs_background": "light"
     },
     "output_type": "display_data"
    }
   ],
   "source": [
    "# plotting line chart to find peak times \n",
    "df.groupby('start_hour')['duration_sec'].mean().plot(kind='line', figsize=(10,5) ,color='#3d85ab')\n",
    "plt.title('Average trip duration per start hour' , fontsize=18 , fontweight='bold')\n",
    "plt.ylabel('Trip duration in minutes')\n",
    "plt.xlabel('Start hour')\n",
    "plt.xticks([x for x in range(0,25, 2)])\n",
    "plt.yticks(rotation=360);\n",
    "plt.savefig('vis9.png',dpi=80, bbox_inches = \"tight\")\n",
    "plt.show()"
   ]
  },
  {
   "cell_type": "markdown",
   "metadata": {},
   "source": [
    "#### Note: peaks at 1-4 and good at 9-18"
   ]
  },
  {
   "cell_type": "code",
   "execution_count": 172,
   "metadata": {},
   "outputs": [
    {
     "data": {
      "image/png": "[encoded data removed]",
      "text/plain": [
       "<Figure size 720x360 with 1 Axes>"
      ]
     },
     "metadata": {
      "needs_background": "light"
     },
     "output_type": "display_data"
    }
   ],
   "source": [
    "df.groupby('start_hour')['duration_sec'].mean().plot(kind='line', figsize=(10,5) ,color='#3d85ab')\n",
    "plt.title('Average trip duration per start hour' , fontsize=18 , fontweight='bold')\n",
    "plt.ylabel('Trip duration in minutes')\n",
    "plt.xlabel('Start hour')\n",
    "plt.xticks([x for x in range(0,25, 2)])\n",
    "plt.yticks(rotation=360);\n",
    "plt.savefig('vis9.png',dpi=80, bbox_inches = \"tight\")\n",
    "plt.show()"
   ]
  },
  {
   "cell_type": "markdown",
   "metadata": {},
   "source": [
    "### Note: The duartion increases when the trip start hour is between 1-3.\n",
    "\n"
   ]
  },
  {
   "cell_type": "markdown",
   "metadata": {},
   "source": [
    "\n",
    "### Talk about some of the relationships you observed in this part of the investigation. How did the feature(s) of interest vary with other features in the dataset?"
   ]
  },
  {
   "cell_type": "markdown",
   "metadata": {},
   "source": [
    "- as expected subscribes are have more time and count than customers\n",
    "- The relationship between the trip duration and age is intresting especially because it shows how the duration decreases with age."
   ]
  },
  {
   "cell_type": "markdown",
   "metadata": {},
   "source": [
    "### Did you observe any interesting relationships between the other features (not the main feature(s) of interest)?"
   ]
  },
  {
   "cell_type": "markdown",
   "metadata": {},
   "source": [
    "- The distributions seem normal and logical.\n",
    "- one month data may not me suffient to analasis and have a wholesome idea to conclude\n"
   ]
  },
  {
   "cell_type": "markdown",
   "metadata": {},
   "source": [
    "\n",
    "# Multivariate Exploration"
   ]
  },
  {
   "cell_type": "markdown",
   "metadata": {},
   "source": [
    "\n",
    "### Gender, user type and duration"
   ]
  },
  {
   "cell_type": "code",
   "execution_count": 173,
   "metadata": {},
   "outputs": [
    {
     "data": {
      "image/png": "[encoded data removed]",
      "text/plain": [
       "<Figure size 403.2x288 with 2 Axes>"
      ]
     },
     "metadata": {
      "needs_background": "light"
     },
     "output_type": "display_data"
    }
   ],
   "source": [
    "sns.catplot(x = \"member_gender\", y = \"duration_sec\",\n",
    "                col = \"user_type\",\n",
    "                data = df, kind = \"bar\",\n",
    "                height=4, aspect=.7);"
   ]
  },
  {
   "cell_type": "markdown",
   "metadata": {},
   "source": [
    "##### Customers have a higher mean trip duration, but now we can see this is true across all genders.\n",
    "##### but now we can see this is true across all genders."
   ]
  },
  {
   "cell_type": "markdown",
   "metadata": {},
   "source": [
    "## Start_hour ,duration_sec and user_type"
   ]
  },
  {
   "cell_type": "code",
   "execution_count": 174,
   "metadata": {
    "scrolled": true
   },
   "outputs": [
    {
     "data": {
      "image/png": "[encoded data removed]",
      "text/plain": [
       "<Figure size 720x432 with 1 Axes>"
      ]
     },
     "metadata": {
      "needs_background": "light"
     },
     "output_type": "display_data"
    }
   ],
   "source": [
    "plt.figure(figsize=[10,6])\n",
    "ax = sns.barplot(data = df, x = 'start_hour', y = 'duration_sec', hue = 'user_type')\n",
    "ax.legend(loc = 1, framealpha = 1, title = 'user_type')\n",
    "plt.yscale('log')\n",
    "plt.yticks([50,100,200,300,400,500, 1e3, 2e3, 5e3, 1e4, 2e4,4e4,8e4], [50,100,200,300,400,500, '1k', '2k', '5k', '10k', '20k','40k','80k']);\n",
    "plt.title('time taken by riders in seconds');"
   ]
  },
  {
   "cell_type": "markdown",
   "metadata": {},
   "source": [
    "\n",
    "### customers have high time than subscribers,subscriber type 2 AM, 3 AM the duration of biking is longer than any hour\n",
    "\n",
    "\n"
   ]
  },
  {
   "cell_type": "code",
   "execution_count": 175,
   "metadata": {},
   "outputs": [
    {
     "data": {
      "image/png": "[encoded data removed]",
      "text/plain": [
       "<Figure size 1080x720 with 1 Axes>"
      ]
     },
     "metadata": {
      "needs_background": "light"
     },
     "output_type": "display_data"
    }
   ],
   "source": [
    "# plotting a scatterplot  \n",
    "df1 = df.sample(20000, random_state=1)\n",
    "\n",
    "plt.figure(figsize = [15, 10]);\n",
    "user_type_markers = [['Customer', 'o'],\n",
    "               ['Subscriber', 'x']]\n",
    "\n",
    "for cat, marker in user_type_markers:\n",
    "    df_cat = df1[df1['user_type'] == cat]\n",
    "    plt.scatter(data = df_cat, x = 'Age', y = 'duration_sec', alpha=2/20);\n",
    "plt.legend(['Customer','Subscriber']);\n",
    "plt.xlabel('Age');\n",
    "plt.ylabel('Duration in Seconds');\n",
    "plt.title(\"Age and trip duration for each user type\");"
   ]
  },
  {
   "cell_type": "markdown",
   "metadata": {},
   "source": [
    "#### Note: The majority of older users are Subscribers and they spend little time in their bike trips.Younger Customers trip duration is slightly more than younger subscribers."
   ]
  },
  {
   "cell_type": "markdown",
   "metadata": {},
   "source": [
    "- Younger Customers trip duration is slightly more than younger subscribers.\n",
    "- The majority of older users are Subscribers and they spend little time in their bike trips."
   ]
  },
  {
   "cell_type": "markdown",
   "metadata": {},
   "source": [
    "### Were there any interesting or surprising interactions between features?"
   ]
  },
  {
   "cell_type": "markdown",
   "metadata": {},
   "source": [
    "#### No"
   ]
  },
  {
   "cell_type": "code",
   "execution_count": null,
   "metadata": {},
   "outputs": [],
   "source": []
  }
 ],
 "metadata": {
  "kernelspec": {
   "display_name": "Python 3",
   "language": "python",
   "name": "python3"
  },
  "language_info": {
   "codemirror_mode": {
    "name": "ipython",
    "version": 3
   },
   "file_extension": ".py",
   "mimetype": "text/x-python",
   "name": "python",
   "nbconvert_exporter": "python",
   "pygments_lexer": "ipython3",
   "version": "3.8.3"
  }
 },
 "nbformat": 4,
 "nbformat_minor": 4
}
